{
  "nbformat": 4,
  "nbformat_minor": 0,
  "metadata": {
    "colab": {
      "provenance": [],
      "authorship_tag": "ABX9TyPhiuDmRhlXrqZuq7N7bVFC",
      "include_colab_link": true
    },
    "kernelspec": {
      "name": "python3",
      "display_name": "Python 3"
    },
    "language_info": {
      "name": "python"
    }
  },
  "cells": [
    {
      "cell_type": "markdown",
      "metadata": {
        "id": "view-in-github",
        "colab_type": "text"
      },
      "source": [
        "<a href=\"https://colab.research.google.com/github/anastasiya-lv/avlvova-project/blob/main/Copy_of_Untitled4.ipynb\" target=\"_parent\"><img src=\"https://colab.research.google.com/assets/colab-badge.svg\" alt=\"Open In Colab\"/></a>"
      ]
    },
    {
      "cell_type": "code",
      "source": [
        "import pandas as pd\n",
        "import requests\n",
        "from bs4 import BeautifulSoup\n",
        "\n",
        "# Загрузка данных, указав delimiter, quotechar и escapechar\n",
        "try:\n",
        "    df = pd.read_csv(\n",
        "        \"запчасти авито.csv\",\n",
        "        delimiter=\";\",  # Изменяем разделитель на точку с запятой\n",
        "        quotechar='\"',\n",
        "        escapechar=\"\\\\\",\n",
        "        on_bad_lines='skip',  # Игнорировать строки с ошибками\n",
        "        engine='python'\n",
        "    )\n",
        "    print(\"Имена колонок:\", df.columns)  # Добавьте эту строку, чтобы увидеть имена колонок\n",
        "except Exception as e:\n",
        "    print(f\"Ошибка загрузки файла: {e}\")\n",
        "    exit()\n",
        "\n",
        "# Убедитесь, что 'OEM' и 'Description' есть в df.columns\n",
        "if 'OEM' not in df.columns or 'Description' not in df.columns:\n",
        "    print(\"Отсутствуют необходимые колонки 'OEM' или 'Description' в CSV файле\")\n",
        "    exit()"
      ],
      "metadata": {
        "colab": {
          "base_uri": "https://localhost:8080/"
        },
        "id": "lmG99mUfeG-m",
        "outputId": "6c613f4b-9d5a-4a47-bff4-d73e9ce3563d"
      },
      "execution_count": null,
      "outputs": [
        {
          "output_type": "stream",
          "name": "stdout",
          "text": [
            "Имена колонок: Index(['Id', 'AvitoId', 'AvitoStatus', 'AvitoDateEnd', 'ListingFee',\n",
            "       'Category', 'GoodsType', 'ProductType', 'CarType', 'Title',\n",
            "       'Description', 'Condition', 'Price', 'ImageUrls', 'Address',\n",
            "       'ManagerName', 'EMail', 'ContactPhone', 'ContactMethod',\n",
            "       'AccessoryType', 'Accident', 'activesafety', 'AdType',\n",
            "       'antitheftsystem', 'Availability', 'BodySparePartType', 'BodyType',\n",
            "       'Brand', 'BrushBrand', 'BrushLength', 'BrushType', 'climatecontrol',\n",
            "       'climatecontroloptions', 'Color', 'CompanyName', 'ComplectationId',\n",
            "       'DifferentWidthTires', 'Doors', 'DriveType', 'drivingassistance',\n",
            "       'electricdrive', 'EngineSize', 'EngineSparePartType', 'EquipmentType',\n",
            "       'FuelType', 'generation', 'GenerationId', 'heating',\n",
            "       'InstallationLocation', 'interior', 'interiorcolor', 'interioroptions',\n",
            "       'Kilometrage', 'LoadIndex', 'Make', 'Model', 'modification',\n",
            "       'ModificationId', 'MountingType', 'multimedia', 'OEM', 'OnlyOnAvito',\n",
            "       'Originality', 'OriginalOEM', 'OriginalVendor', 'Owners', 'Power',\n",
            "       'powersteering', 'PTS', 'Quantity', 'RegInRussia', 'ResidualTread',\n",
            "       'RimDiameter', 'RunFlat', 'Set', 'SparePartType', 'SpeedIndex',\n",
            "       'TechnicSparePartType', 'TireAspectRatio', 'TireSectionWidth',\n",
            "       'TireType', 'Transmission', 'TransmissionSparePartType', 'TypeID',\n",
            "       'VendorCode', 'VIN', 'wheelsoptions', 'WheelType', 'Year'],\n",
            "      dtype='object')\n"
          ]
        }
      ]
    },
    {
      "cell_type": "code",
      "source": [
        "# Функция для добавления текста из колонки OEM в колонку Description при условии, что его нет в Description\n",
        "def update_description(row):\n",
        "    oem = str(row['OEM']) if not pd.isna(row['OEM']) else \"\"\n",
        "    description = str(row['Description']) if not pd.isna(row['Description']) else \"\"\n",
        "\n",
        "    if oem not in description:\n",
        "        return description + \" \" + oem\n",
        "    return description\n",
        "\n",
        "# Обновление колонки Description\n",
        "df['Description'] = df.apply(update_description, axis=1)\n"
      ],
      "metadata": {
        "id": "8uiOBkYPekxz"
      },
      "execution_count": null,
      "outputs": []
    },
    {
      "cell_type": "code",
      "source": [
        "# Функция для поиска ссылки на картинку в интернете по названию OEM\n",
        "def get_image_url(oem):\n",
        "    search_url = f\"https://www.google.com/search?tbm=isch&q={oem}\"\n",
        "    response = requests.get(search_url)\n",
        "    soup = BeautifulSoup(response.text, 'html.parser')\n",
        "    img_tag = soup.find(\"img\")\n",
        "    return img_tag['src'] if img_tag else \"No image found\"\n",
        "\n",
        "# Заполнение пустых ячеек в колонке ImageUrls\n",
        "df['ImageUrls'] = df.apply(lambda row: get_image_url(row['OEM']) if pd.isna(row.get('ImageUrls')) else row['ImageUrls'], axis=1)\n",
        "\n",
        "# Сохранение обновленного датафрейма обратно в CSV файл\n",
        "df.to_csv(\"updated_запчасти_авито.csv\", index=False)\n",
        "\n",
        "print(\"Обновленный файл сохранен.\")"
      ],
      "metadata": {
        "id": "l_lZfwJ7eo0Q",
        "colab": {
          "base_uri": "https://localhost:8080/"
        },
        "outputId": "daf3dfd2-8e3b-436f-ba1b-ed45fe35c038"
      },
      "execution_count": null,
      "outputs": [
        {
          "output_type": "stream",
          "name": "stdout",
          "text": [
            "Обновленный файл сохранен.\n"
          ]
        }
      ]
    }
  ]
}